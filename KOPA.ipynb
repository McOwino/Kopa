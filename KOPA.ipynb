{
 "cells": [
  {
   "cell_type": "code",
   "execution_count": 1,
   "id": "24120045",
   "metadata": {},
   "outputs": [],
   "source": [
    "# importing libraries\n",
    "import pandas as pd\n",
    "import numpy as np\n",
    "import matplotlib.pyplot as plt\n",
    "import seaborn as sns"
   ]
  },
  {
   "cell_type": "code",
   "execution_count": 2,
   "id": "7f7d58c7",
   "metadata": {},
   "outputs": [
    {
     "data": {
      "text/html": [
       "<div>\n",
       "<style scoped>\n",
       "    .dataframe tbody tr th:only-of-type {\n",
       "        vertical-align: middle;\n",
       "    }\n",
       "\n",
       "    .dataframe tbody tr th {\n",
       "        vertical-align: top;\n",
       "    }\n",
       "\n",
       "    .dataframe thead th {\n",
       "        text-align: right;\n",
       "    }\n",
       "</style>\n",
       "<table border=\"1\" class=\"dataframe\">\n",
       "  <thead>\n",
       "    <tr style=\"text-align: right;\">\n",
       "      <th></th>\n",
       "      <th>Product</th>\n",
       "      <th>CustomerGender</th>\n",
       "      <th>Location</th>\n",
       "      <th>Region</th>\n",
       "      <th>TotalPrice</th>\n",
       "      <th>StartDate</th>\n",
       "      <th>Deposit</th>\n",
       "      <th>DailyRate</th>\n",
       "      <th>TotalDays</th>\n",
       "      <th>AmountPaid30</th>\n",
       "      <th>AmountPaid60</th>\n",
       "      <th>AmountPaid360</th>\n",
       "      <th>LoanStatus360</th>\n",
       "    </tr>\n",
       "  </thead>\n",
       "  <tbody>\n",
       "    <tr>\n",
       "      <th>0</th>\n",
       "      <td>Product B</td>\n",
       "      <td>Male</td>\n",
       "      <td>Location 2</td>\n",
       "      <td>Region 2</td>\n",
       "      <td>16600</td>\n",
       "      <td>7/4/2014</td>\n",
       "      <td>2000</td>\n",
       "      <td>40</td>\n",
       "      <td>365</td>\n",
       "      <td>3121</td>\n",
       "      <td>4241</td>\n",
       "      <td>13621</td>\n",
       "      <td>Active</td>\n",
       "    </tr>\n",
       "    <tr>\n",
       "      <th>1</th>\n",
       "      <td>Product B</td>\n",
       "      <td>Male</td>\n",
       "      <td>Location 3</td>\n",
       "      <td>Region 3</td>\n",
       "      <td>16600</td>\n",
       "      <td>1/2/2015</td>\n",
       "      <td>2000</td>\n",
       "      <td>40</td>\n",
       "      <td>365</td>\n",
       "      <td>3061</td>\n",
       "      <td>4171</td>\n",
       "      <td>15041</td>\n",
       "      <td>Active</td>\n",
       "    </tr>\n",
       "    <tr>\n",
       "      <th>2</th>\n",
       "      <td>Product C</td>\n",
       "      <td>Female</td>\n",
       "      <td>Location 5</td>\n",
       "      <td>Region 5</td>\n",
       "      <td>15600</td>\n",
       "      <td>12/8/2012</td>\n",
       "      <td>1000</td>\n",
       "      <td>40</td>\n",
       "      <td>365</td>\n",
       "      <td>2160</td>\n",
       "      <td>3280</td>\n",
       "      <td>15340</td>\n",
       "      <td>Active</td>\n",
       "    </tr>\n",
       "    <tr>\n",
       "      <th>3</th>\n",
       "      <td>Product B</td>\n",
       "      <td>Male</td>\n",
       "      <td>Location 6</td>\n",
       "      <td>Region 1</td>\n",
       "      <td>16600</td>\n",
       "      <td>2/20/2015</td>\n",
       "      <td>2000</td>\n",
       "      <td>40</td>\n",
       "      <td>365</td>\n",
       "      <td>3041</td>\n",
       "      <td>4241</td>\n",
       "      <td>15321</td>\n",
       "      <td>Active</td>\n",
       "    </tr>\n",
       "    <tr>\n",
       "      <th>4</th>\n",
       "      <td>Product D</td>\n",
       "      <td>Female</td>\n",
       "      <td>Location 7</td>\n",
       "      <td>Region 2</td>\n",
       "      <td>20250</td>\n",
       "      <td>10/28/2013</td>\n",
       "      <td>2000</td>\n",
       "      <td>50</td>\n",
       "      <td>365</td>\n",
       "      <td>3470</td>\n",
       "      <td>4820</td>\n",
       "      <td>13720</td>\n",
       "      <td>Active</td>\n",
       "    </tr>\n",
       "  </tbody>\n",
       "</table>\n",
       "</div>"
      ],
      "text/plain": [
       "     Product CustomerGender    Location    Region  TotalPrice   StartDate  \\\n",
       "0  Product B           Male  Location 2  Region 2       16600    7/4/2014   \n",
       "1  Product B           Male  Location 3  Region 3       16600    1/2/2015   \n",
       "2  Product C         Female  Location 5  Region 5       15600   12/8/2012   \n",
       "3  Product B           Male  Location 6  Region 1       16600   2/20/2015   \n",
       "4  Product D         Female  Location 7  Region 2       20250  10/28/2013   \n",
       "\n",
       "   Deposit  DailyRate  TotalDays  AmountPaid30  AmountPaid60  AmountPaid360  \\\n",
       "0     2000         40        365          3121          4241          13621   \n",
       "1     2000         40        365          3061          4171          15041   \n",
       "2     1000         40        365          2160          3280          15340   \n",
       "3     2000         40        365          3041          4241          15321   \n",
       "4     2000         50        365          3470          4820          13720   \n",
       "\n",
       "  LoanStatus360  \n",
       "0        Active  \n",
       "1        Active  \n",
       "2        Active  \n",
       "3        Active  \n",
       "4        Active  "
      ]
     },
     "execution_count": 2,
     "metadata": {},
     "output_type": "execute_result"
    }
   ],
   "source": [
    "# loaidng the dataset to the console\n",
    "df = pd.read_csv('KOPA.csv')\n",
    "\n",
    "df.head()"
   ]
  },
  {
   "cell_type": "code",
   "execution_count": 3,
   "id": "466ee5f4",
   "metadata": {},
   "outputs": [
    {
     "data": {
      "text/plain": [
       "(9195, 13)"
      ]
     },
     "execution_count": 3,
     "metadata": {},
     "output_type": "execute_result"
    }
   ],
   "source": [
    "# knowing the number of rows and columns in the dataset\n",
    "df.shape"
   ]
  },
  {
   "cell_type": "code",
   "execution_count": 55,
   "id": "76fcbac7",
   "metadata": {},
   "outputs": [
    {
     "data": {
      "text/plain": [
       "array(['Active', 'Blocked', 'Finished Payment'], dtype=object)"
      ]
     },
     "execution_count": 55,
     "metadata": {},
     "output_type": "execute_result"
    }
   ],
   "source": [
    "# determining the number of unique values in the loanstatus360 column\n",
    "df['LoanStatus360'].unique()"
   ]
  },
  {
   "cell_type": "code",
   "execution_count": 4,
   "id": "a5e21bcc",
   "metadata": {},
   "outputs": [
    {
     "data": {
      "text/plain": [
       "Product           0\n",
       "CustomerGender    0\n",
       "Location          0\n",
       "Region            0\n",
       "TotalPrice        0\n",
       "StartDate         0\n",
       "Deposit           0\n",
       "DailyRate         0\n",
       "TotalDays         0\n",
       "AmountPaid30      0\n",
       "AmountPaid60      0\n",
       "AmountPaid360     0\n",
       "LoanStatus360     0\n",
       "dtype: int64"
      ]
     },
     "execution_count": 4,
     "metadata": {},
     "output_type": "execute_result"
    }
   ],
   "source": [
    "# confirming that the dataset has no null value if there is, remove it\n",
    "df.isnull().sum()"
   ]
  },
  {
   "cell_type": "code",
   "execution_count": 5,
   "id": "62d8c175",
   "metadata": {},
   "outputs": [
    {
     "data": {
      "text/plain": [
       "0"
      ]
     },
     "execution_count": 5,
     "metadata": {},
     "output_type": "execute_result"
    }
   ],
   "source": [
    "df.duplicated().sum()"
   ]
  },
  {
   "cell_type": "code",
   "execution_count": 6,
   "id": "6bc35567",
   "metadata": {},
   "outputs": [
    {
     "data": {
      "text/html": [
       "<div>\n",
       "<style scoped>\n",
       "    .dataframe tbody tr th:only-of-type {\n",
       "        vertical-align: middle;\n",
       "    }\n",
       "\n",
       "    .dataframe tbody tr th {\n",
       "        vertical-align: top;\n",
       "    }\n",
       "\n",
       "    .dataframe thead th {\n",
       "        text-align: right;\n",
       "    }\n",
       "</style>\n",
       "<table border=\"1\" class=\"dataframe\">\n",
       "  <thead>\n",
       "    <tr style=\"text-align: right;\">\n",
       "      <th></th>\n",
       "      <th>TotalPrice</th>\n",
       "      <th>Deposit</th>\n",
       "      <th>DailyRate</th>\n",
       "      <th>TotalDays</th>\n",
       "      <th>AmountPaid30</th>\n",
       "      <th>AmountPaid60</th>\n",
       "      <th>AmountPaid360</th>\n",
       "    </tr>\n",
       "  </thead>\n",
       "  <tbody>\n",
       "    <tr>\n",
       "      <th>count</th>\n",
       "      <td>9195.000000</td>\n",
       "      <td>9195.000000</td>\n",
       "      <td>9195.000000</td>\n",
       "      <td>9195.0</td>\n",
       "      <td>9195.000000</td>\n",
       "      <td>9195.000000</td>\n",
       "      <td>9195.000000</td>\n",
       "    </tr>\n",
       "    <tr>\n",
       "      <th>mean</th>\n",
       "      <td>19266.264274</td>\n",
       "      <td>2311.528004</td>\n",
       "      <td>46.451332</td>\n",
       "      <td>365.0</td>\n",
       "      <td>3580.482762</td>\n",
       "      <td>4735.672974</td>\n",
       "      <td>14673.833061</td>\n",
       "    </tr>\n",
       "    <tr>\n",
       "      <th>std</th>\n",
       "      <td>6053.291677</td>\n",
       "      <td>1412.612091</td>\n",
       "      <td>13.375759</td>\n",
       "      <td>0.0</td>\n",
       "      <td>2487.320211</td>\n",
       "      <td>2756.332798</td>\n",
       "      <td>6676.242654</td>\n",
       "    </tr>\n",
       "    <tr>\n",
       "      <th>min</th>\n",
       "      <td>13775.000000</td>\n",
       "      <td>1000.000000</td>\n",
       "      <td>35.000000</td>\n",
       "      <td>365.0</td>\n",
       "      <td>-3200.000000</td>\n",
       "      <td>-3200.000000</td>\n",
       "      <td>-3200.000000</td>\n",
       "    </tr>\n",
       "    <tr>\n",
       "      <th>25%</th>\n",
       "      <td>16600.000000</td>\n",
       "      <td>2000.000000</td>\n",
       "      <td>40.000000</td>\n",
       "      <td>365.0</td>\n",
       "      <td>2500.000000</td>\n",
       "      <td>3437.500000</td>\n",
       "      <td>11351.000000</td>\n",
       "    </tr>\n",
       "    <tr>\n",
       "      <th>50%</th>\n",
       "      <td>16600.000000</td>\n",
       "      <td>2000.000000</td>\n",
       "      <td>40.000000</td>\n",
       "      <td>365.0</td>\n",
       "      <td>3351.000000</td>\n",
       "      <td>4400.000000</td>\n",
       "      <td>15140.000000</td>\n",
       "    </tr>\n",
       "    <tr>\n",
       "      <th>75%</th>\n",
       "      <td>20250.000000</td>\n",
       "      <td>2000.000000</td>\n",
       "      <td>50.000000</td>\n",
       "      <td>365.0</td>\n",
       "      <td>4601.000000</td>\n",
       "      <td>5668.000000</td>\n",
       "      <td>16600.000000</td>\n",
       "    </tr>\n",
       "    <tr>\n",
       "      <th>max</th>\n",
       "      <td>69225.000000</td>\n",
       "      <td>9000.000000</td>\n",
       "      <td>165.000000</td>\n",
       "      <td>365.0</td>\n",
       "      <td>26001.000000</td>\n",
       "      <td>33501.000000</td>\n",
       "      <td>69225.000000</td>\n",
       "    </tr>\n",
       "  </tbody>\n",
       "</table>\n",
       "</div>"
      ],
      "text/plain": [
       "         TotalPrice      Deposit    DailyRate  TotalDays  AmountPaid30  \\\n",
       "count   9195.000000  9195.000000  9195.000000     9195.0   9195.000000   \n",
       "mean   19266.264274  2311.528004    46.451332      365.0   3580.482762   \n",
       "std     6053.291677  1412.612091    13.375759        0.0   2487.320211   \n",
       "min    13775.000000  1000.000000    35.000000      365.0  -3200.000000   \n",
       "25%    16600.000000  2000.000000    40.000000      365.0   2500.000000   \n",
       "50%    16600.000000  2000.000000    40.000000      365.0   3351.000000   \n",
       "75%    20250.000000  2000.000000    50.000000      365.0   4601.000000   \n",
       "max    69225.000000  9000.000000   165.000000      365.0  26001.000000   \n",
       "\n",
       "       AmountPaid60  AmountPaid360  \n",
       "count   9195.000000    9195.000000  \n",
       "mean    4735.672974   14673.833061  \n",
       "std     2756.332798    6676.242654  \n",
       "min    -3200.000000   -3200.000000  \n",
       "25%     3437.500000   11351.000000  \n",
       "50%     4400.000000   15140.000000  \n",
       "75%     5668.000000   16600.000000  \n",
       "max    33501.000000   69225.000000  "
      ]
     },
     "execution_count": 6,
     "metadata": {},
     "output_type": "execute_result"
    }
   ],
   "source": [
    "df.describe()"
   ]
  },
  {
   "cell_type": "code",
   "execution_count": null,
   "id": "167909d9",
   "metadata": {},
   "outputs": [],
   "source": []
  },
  {
   "cell_type": "code",
   "execution_count": null,
   "id": "28517894",
   "metadata": {},
   "outputs": [],
   "source": []
  },
  {
   "cell_type": "code",
   "execution_count": null,
   "id": "23060463",
   "metadata": {},
   "outputs": [],
   "source": []
  },
  {
   "cell_type": "code",
   "execution_count": null,
   "id": "e8ee6b26",
   "metadata": {},
   "outputs": [],
   "source": []
  },
  {
   "cell_type": "markdown",
   "id": "d39eca6d",
   "metadata": {},
   "source": [
    "# Feature Extraction"
   ]
  },
  {
   "cell_type": "code",
   "execution_count": 33,
   "id": "eb3ed44b",
   "metadata": {},
   "outputs": [
    {
     "data": {
      "text/plain": [
       "Product           object\n",
       "CustomerGender    object\n",
       "Location          object\n",
       "Region            object\n",
       "TotalPrice         int64\n",
       "StartDate         object\n",
       "Deposit            int64\n",
       "DailyRate          int64\n",
       "TotalDays          int64\n",
       "AmountPaid30       int64\n",
       "AmountPaid60       int64\n",
       "AmountPaid360      int64\n",
       "LoanStatus360     object\n",
       "dtype: object"
      ]
     },
     "execution_count": 33,
     "metadata": {},
     "output_type": "execute_result"
    }
   ],
   "source": [
    "df.dtypes"
   ]
  },
  {
   "cell_type": "code",
   "execution_count": 40,
   "id": "0dbe0e34",
   "metadata": {},
   "outputs": [],
   "source": [
    "# kopa_regression = df.copy()\n",
    "\n",
    "kopa_classification = df.copy()"
   ]
  },
  {
   "cell_type": "code",
   "execution_count": 34,
   "id": "1b9adbe4",
   "metadata": {},
   "outputs": [
    {
     "data": {
      "text/plain": [
       "['Product',\n",
       " 'CustomerGender',\n",
       " 'Location',\n",
       " 'Region',\n",
       " 'StartDate',\n",
       " 'LoanStatus360']"
      ]
     },
     "execution_count": 34,
     "metadata": {},
     "output_type": "execute_result"
    }
   ],
   "source": [
    "cat_columns =['Product','CustomerGender', 'Location', 'Region', 'StartDate', 'LoanStatus360']\n",
    "\n",
    "cat_columns"
   ]
  },
  {
   "cell_type": "code",
   "execution_count": 37,
   "id": "b3050e0d",
   "metadata": {},
   "outputs": [],
   "source": [
    "# label encode our data\n",
    "\n",
    "#instantiate the encoder\n",
    "encoder = LabelEncoder()\n",
    "\n",
    "# fit and transform the data\n",
    "for column in cat_columns:\n",
    "    kopa_regression[column] = encoder.fit_transform(kopa_regression[column])\n"
   ]
  },
  {
   "cell_type": "code",
   "execution_count": 38,
   "id": "60b5e576",
   "metadata": {},
   "outputs": [
    {
     "data": {
      "text/html": [
       "<div>\n",
       "<style scoped>\n",
       "    .dataframe tbody tr th:only-of-type {\n",
       "        vertical-align: middle;\n",
       "    }\n",
       "\n",
       "    .dataframe tbody tr th {\n",
       "        vertical-align: top;\n",
       "    }\n",
       "\n",
       "    .dataframe thead th {\n",
       "        text-align: right;\n",
       "    }\n",
       "</style>\n",
       "<table border=\"1\" class=\"dataframe\">\n",
       "  <thead>\n",
       "    <tr style=\"text-align: right;\">\n",
       "      <th></th>\n",
       "      <th>Product</th>\n",
       "      <th>CustomerGender</th>\n",
       "      <th>Location</th>\n",
       "      <th>Region</th>\n",
       "      <th>TotalPrice</th>\n",
       "      <th>StartDate</th>\n",
       "      <th>Deposit</th>\n",
       "      <th>DailyRate</th>\n",
       "      <th>TotalDays</th>\n",
       "      <th>AmountPaid30</th>\n",
       "      <th>AmountPaid60</th>\n",
       "      <th>AmountPaid360</th>\n",
       "      <th>LoanStatus360</th>\n",
       "    </tr>\n",
       "  </thead>\n",
       "  <tbody>\n",
       "    <tr>\n",
       "      <th>0</th>\n",
       "      <td>1</td>\n",
       "      <td>1</td>\n",
       "      <td>108</td>\n",
       "      <td>10</td>\n",
       "      <td>16600</td>\n",
       "      <td>1255</td>\n",
       "      <td>2000</td>\n",
       "      <td>40</td>\n",
       "      <td>365</td>\n",
       "      <td>3121</td>\n",
       "      <td>4241</td>\n",
       "      <td>13621</td>\n",
       "      <td>0</td>\n",
       "    </tr>\n",
       "    <tr>\n",
       "      <th>1</th>\n",
       "      <td>1</td>\n",
       "      <td>1</td>\n",
       "      <td>219</td>\n",
       "      <td>11</td>\n",
       "      <td>16600</td>\n",
       "      <td>44</td>\n",
       "      <td>2000</td>\n",
       "      <td>40</td>\n",
       "      <td>365</td>\n",
       "      <td>3061</td>\n",
       "      <td>4171</td>\n",
       "      <td>15041</td>\n",
       "      <td>0</td>\n",
       "    </tr>\n",
       "    <tr>\n",
       "      <th>2</th>\n",
       "      <td>2</td>\n",
       "      <td>0</td>\n",
       "      <td>441</td>\n",
       "      <td>13</td>\n",
       "      <td>15600</td>\n",
       "      <td>470</td>\n",
       "      <td>1000</td>\n",
       "      <td>40</td>\n",
       "      <td>365</td>\n",
       "      <td>2160</td>\n",
       "      <td>3280</td>\n",
       "      <td>15340</td>\n",
       "      <td>0</td>\n",
       "    </tr>\n",
       "    <tr>\n",
       "      <th>3</th>\n",
       "      <td>1</td>\n",
       "      <td>1</td>\n",
       "      <td>552</td>\n",
       "      <td>0</td>\n",
       "      <td>16600</td>\n",
       "      <td>532</td>\n",
       "      <td>2000</td>\n",
       "      <td>40</td>\n",
       "      <td>365</td>\n",
       "      <td>3041</td>\n",
       "      <td>4241</td>\n",
       "      <td>15321</td>\n",
       "      <td>0</td>\n",
       "    </tr>\n",
       "    <tr>\n",
       "      <th>4</th>\n",
       "      <td>3</td>\n",
       "      <td>0</td>\n",
       "      <td>659</td>\n",
       "      <td>10</td>\n",
       "      <td>20250</td>\n",
       "      <td>201</td>\n",
       "      <td>2000</td>\n",
       "      <td>50</td>\n",
       "      <td>365</td>\n",
       "      <td>3470</td>\n",
       "      <td>4820</td>\n",
       "      <td>13720</td>\n",
       "      <td>0</td>\n",
       "    </tr>\n",
       "    <tr>\n",
       "      <th>...</th>\n",
       "      <td>...</td>\n",
       "      <td>...</td>\n",
       "      <td>...</td>\n",
       "      <td>...</td>\n",
       "      <td>...</td>\n",
       "      <td>...</td>\n",
       "      <td>...</td>\n",
       "      <td>...</td>\n",
       "      <td>...</td>\n",
       "      <td>...</td>\n",
       "      <td>...</td>\n",
       "      <td>...</td>\n",
       "      <td>...</td>\n",
       "    </tr>\n",
       "    <tr>\n",
       "      <th>9190</th>\n",
       "      <td>0</td>\n",
       "      <td>0</td>\n",
       "      <td>220</td>\n",
       "      <td>10</td>\n",
       "      <td>20250</td>\n",
       "      <td>1109</td>\n",
       "      <td>2000</td>\n",
       "      <td>50</td>\n",
       "      <td>365</td>\n",
       "      <td>3601</td>\n",
       "      <td>4301</td>\n",
       "      <td>20250</td>\n",
       "      <td>2</td>\n",
       "    </tr>\n",
       "    <tr>\n",
       "      <th>9191</th>\n",
       "      <td>3</td>\n",
       "      <td>0</td>\n",
       "      <td>519</td>\n",
       "      <td>14</td>\n",
       "      <td>20250</td>\n",
       "      <td>1380</td>\n",
       "      <td>2000</td>\n",
       "      <td>50</td>\n",
       "      <td>365</td>\n",
       "      <td>4001</td>\n",
       "      <td>5501</td>\n",
       "      <td>20250</td>\n",
       "      <td>2</td>\n",
       "    </tr>\n",
       "    <tr>\n",
       "      <th>9192</th>\n",
       "      <td>1</td>\n",
       "      <td>0</td>\n",
       "      <td>762</td>\n",
       "      <td>10</td>\n",
       "      <td>16600</td>\n",
       "      <td>1024</td>\n",
       "      <td>2000</td>\n",
       "      <td>40</td>\n",
       "      <td>365</td>\n",
       "      <td>3401</td>\n",
       "      <td>4601</td>\n",
       "      <td>16600</td>\n",
       "      <td>2</td>\n",
       "    </tr>\n",
       "    <tr>\n",
       "      <th>9193</th>\n",
       "      <td>1</td>\n",
       "      <td>1</td>\n",
       "      <td>330</td>\n",
       "      <td>12</td>\n",
       "      <td>16600</td>\n",
       "      <td>440</td>\n",
       "      <td>2000</td>\n",
       "      <td>40</td>\n",
       "      <td>365</td>\n",
       "      <td>3400</td>\n",
       "      <td>4600</td>\n",
       "      <td>16600</td>\n",
       "      <td>2</td>\n",
       "    </tr>\n",
       "    <tr>\n",
       "      <th>9194</th>\n",
       "      <td>3</td>\n",
       "      <td>1</td>\n",
       "      <td>66</td>\n",
       "      <td>0</td>\n",
       "      <td>20250</td>\n",
       "      <td>1069</td>\n",
       "      <td>2000</td>\n",
       "      <td>50</td>\n",
       "      <td>365</td>\n",
       "      <td>6950</td>\n",
       "      <td>6950</td>\n",
       "      <td>20250</td>\n",
       "      <td>2</td>\n",
       "    </tr>\n",
       "  </tbody>\n",
       "</table>\n",
       "<p>9195 rows × 13 columns</p>\n",
       "</div>"
      ],
      "text/plain": [
       "      Product  CustomerGender  Location  Region  TotalPrice  StartDate  \\\n",
       "0           1               1       108      10       16600       1255   \n",
       "1           1               1       219      11       16600         44   \n",
       "2           2               0       441      13       15600        470   \n",
       "3           1               1       552       0       16600        532   \n",
       "4           3               0       659      10       20250        201   \n",
       "...       ...             ...       ...     ...         ...        ...   \n",
       "9190        0               0       220      10       20250       1109   \n",
       "9191        3               0       519      14       20250       1380   \n",
       "9192        1               0       762      10       16600       1024   \n",
       "9193        1               1       330      12       16600        440   \n",
       "9194        3               1        66       0       20250       1069   \n",
       "\n",
       "      Deposit  DailyRate  TotalDays  AmountPaid30  AmountPaid60  \\\n",
       "0        2000         40        365          3121          4241   \n",
       "1        2000         40        365          3061          4171   \n",
       "2        1000         40        365          2160          3280   \n",
       "3        2000         40        365          3041          4241   \n",
       "4        2000         50        365          3470          4820   \n",
       "...       ...        ...        ...           ...           ...   \n",
       "9190     2000         50        365          3601          4301   \n",
       "9191     2000         50        365          4001          5501   \n",
       "9192     2000         40        365          3401          4601   \n",
       "9193     2000         40        365          3400          4600   \n",
       "9194     2000         50        365          6950          6950   \n",
       "\n",
       "      AmountPaid360  LoanStatus360  \n",
       "0             13621              0  \n",
       "1             15041              0  \n",
       "2             15340              0  \n",
       "3             15321              0  \n",
       "4             13720              0  \n",
       "...             ...            ...  \n",
       "9190          20250              2  \n",
       "9191          20250              2  \n",
       "9192          16600              2  \n",
       "9193          16600              2  \n",
       "9194          20250              2  \n",
       "\n",
       "[9195 rows x 13 columns]"
      ]
     },
     "execution_count": 38,
     "metadata": {},
     "output_type": "execute_result"
    }
   ],
   "source": [
    "kopa_regression"
   ]
  },
  {
   "cell_type": "code",
   "execution_count": 14,
   "id": "202cce72",
   "metadata": {},
   "outputs": [
    {
     "data": {
      "text/plain": [
       "<AxesSubplot:>"
      ]
     },
     "execution_count": 14,
     "metadata": {},
     "output_type": "execute_result"
    },
    {
     "data": {
      "image/png": "[encoded data removed]",
      "text/plain": [
       "<Figure size 864x576 with 2 Axes>"
      ]
     },
     "metadata": {
      "needs_background": "light"
     },
     "output_type": "display_data"
    }
   ],
   "source": [
    "# check corrlation\n",
    "corr_matrix = kopa_regression.corr()\n",
    "\n",
    "# visiualize the correlation matrix\n",
    "plt.figure(figsize=(12,8))\n",
    "sns.heatmap(corr_matrix, annot=True, cmap='inferno')"
   ]
  },
  {
   "cell_type": "code",
   "execution_count": 15,
   "id": "4e4322af",
   "metadata": {},
   "outputs": [],
   "source": [
    "kopa_regression.drop(['Location','StartDate','TotalDays','AmountPaid30','DailyRate'], \n",
    "                     axis=1,\n",
    "                     inplace=True)"
   ]
  },
  {
   "cell_type": "code",
   "execution_count": 16,
   "id": "e8a6a1ec",
   "metadata": {},
   "outputs": [
    {
     "data": {
      "text/html": [
       "<div>\n",
       "<style scoped>\n",
       "    .dataframe tbody tr th:only-of-type {\n",
       "        vertical-align: middle;\n",
       "    }\n",
       "\n",
       "    .dataframe tbody tr th {\n",
       "        vertical-align: top;\n",
       "    }\n",
       "\n",
       "    .dataframe thead th {\n",
       "        text-align: right;\n",
       "    }\n",
       "</style>\n",
       "<table border=\"1\" class=\"dataframe\">\n",
       "  <thead>\n",
       "    <tr style=\"text-align: right;\">\n",
       "      <th></th>\n",
       "      <th>Product</th>\n",
       "      <th>CustomerGender</th>\n",
       "      <th>Region</th>\n",
       "      <th>TotalPrice</th>\n",
       "      <th>Deposit</th>\n",
       "      <th>AmountPaid60</th>\n",
       "      <th>AmountPaid360</th>\n",
       "      <th>LoanStatus360</th>\n",
       "    </tr>\n",
       "  </thead>\n",
       "  <tbody>\n",
       "    <tr>\n",
       "      <th>0</th>\n",
       "      <td>1</td>\n",
       "      <td>1</td>\n",
       "      <td>10</td>\n",
       "      <td>16600</td>\n",
       "      <td>2000</td>\n",
       "      <td>4241</td>\n",
       "      <td>13621</td>\n",
       "      <td>0</td>\n",
       "    </tr>\n",
       "    <tr>\n",
       "      <th>1</th>\n",
       "      <td>1</td>\n",
       "      <td>1</td>\n",
       "      <td>11</td>\n",
       "      <td>16600</td>\n",
       "      <td>2000</td>\n",
       "      <td>4171</td>\n",
       "      <td>15041</td>\n",
       "      <td>0</td>\n",
       "    </tr>\n",
       "    <tr>\n",
       "      <th>2</th>\n",
       "      <td>2</td>\n",
       "      <td>0</td>\n",
       "      <td>13</td>\n",
       "      <td>15600</td>\n",
       "      <td>1000</td>\n",
       "      <td>3280</td>\n",
       "      <td>15340</td>\n",
       "      <td>0</td>\n",
       "    </tr>\n",
       "    <tr>\n",
       "      <th>3</th>\n",
       "      <td>1</td>\n",
       "      <td>1</td>\n",
       "      <td>0</td>\n",
       "      <td>16600</td>\n",
       "      <td>2000</td>\n",
       "      <td>4241</td>\n",
       "      <td>15321</td>\n",
       "      <td>0</td>\n",
       "    </tr>\n",
       "    <tr>\n",
       "      <th>4</th>\n",
       "      <td>3</td>\n",
       "      <td>0</td>\n",
       "      <td>10</td>\n",
       "      <td>20250</td>\n",
       "      <td>2000</td>\n",
       "      <td>4820</td>\n",
       "      <td>13720</td>\n",
       "      <td>0</td>\n",
       "    </tr>\n",
       "  </tbody>\n",
       "</table>\n",
       "</div>"
      ],
      "text/plain": [
       "   Product  CustomerGender  Region  TotalPrice  Deposit  AmountPaid60  \\\n",
       "0        1               1      10       16600     2000          4241   \n",
       "1        1               1      11       16600     2000          4171   \n",
       "2        2               0      13       15600     1000          3280   \n",
       "3        1               1       0       16600     2000          4241   \n",
       "4        3               0      10       20250     2000          4820   \n",
       "\n",
       "   AmountPaid360  LoanStatus360  \n",
       "0          13621              0  \n",
       "1          15041              0  \n",
       "2          15340              0  \n",
       "3          15321              0  \n",
       "4          13720              0  "
      ]
     },
     "execution_count": 16,
     "metadata": {},
     "output_type": "execute_result"
    }
   ],
   "source": [
    "kopa_regression.head()"
   ]
  },
  {
   "cell_type": "markdown",
   "id": "3d0ce66a",
   "metadata": {},
   "source": [
    "# Regression Model"
   ]
  },
  {
   "cell_type": "code",
   "execution_count": 17,
   "id": "aa44ae58",
   "metadata": {},
   "outputs": [],
   "source": [
    "# Modelling\n",
    "x = kopa_regression.drop('AmountPaid360', axis=1)\n",
    "\n",
    "y= kopa_regression['AmountPaid360']"
   ]
  },
  {
   "cell_type": "code",
   "execution_count": 18,
   "id": "fd50a840",
   "metadata": {},
   "outputs": [],
   "source": [
    "# split data\n",
    "\n",
    "#import module\n",
    "from sklearn.model_selection import train_test_split\n",
    "\n",
    "# split data\n",
    "x_train, x_test, y_train, y_test =train_test_split(x, y, test_size=0.2 , random_state=42)"
   ]
  },
  {
   "cell_type": "code",
   "execution_count": 29,
   "id": "7f93e597",
   "metadata": {},
   "outputs": [],
   "source": [
    "# Create first model\n",
    "# import model and metrics\n",
    "from sklearn.linear_model import LinearRegression\n",
    "from sklearn.tree import DecisionTreeRegressor\n",
    "from sklearn.dummy import DummyRegressor\n",
    "from sklearn.ensemble import RandomForestRegressor\n",
    "\n",
    "from sklearn.metrics import mean_absolute_error, mean_squared_error"
   ]
  },
  {
   "cell_type": "code",
   "execution_count": 20,
   "id": "7f79f3d2",
   "metadata": {},
   "outputs": [],
   "source": [
    "# begin our model training\n",
    "# start with DummyClassifier to establish the baseline\n",
    "#instantiate\n",
    "dummy = DummyRegressor()\n",
    "#train\n",
    "dummy.fit(x_train, y_train)\n",
    "#test\n",
    "dummy_pred = dummy.predict(x_test)"
   ]
  },
  {
   "cell_type": "code",
   "execution_count": 21,
   "id": "61c424e0",
   "metadata": {},
   "outputs": [
    {
     "data": {
      "text/plain": [
       "50405935.88366079"
      ]
     },
     "execution_count": 21,
     "metadata": {},
     "output_type": "execute_result"
    }
   ],
   "source": [
    "# evaluate\n",
    "mean_squared_error(y_test, dummy_pred)"
   ]
  },
  {
   "cell_type": "code",
   "execution_count": 22,
   "id": "7f0476a2",
   "metadata": {},
   "outputs": [
    {
     "data": {
      "text/plain": [
       "4403.0242303117075"
      ]
     },
     "execution_count": 22,
     "metadata": {},
     "output_type": "execute_result"
    }
   ],
   "source": [
    "mean_absolute_error(y_test, dummy_pred)"
   ]
  },
  {
   "cell_type": "code",
   "execution_count": 23,
   "id": "3b6e270d",
   "metadata": {},
   "outputs": [],
   "source": [
    "# Linear Regression Model\n",
    "linr = LinearRegression()\n",
    "linr.fit(x_train, y_train)\n",
    "linr_pred = linr.predict(x_test)"
   ]
  },
  {
   "cell_type": "code",
   "execution_count": 24,
   "id": "450b6545",
   "metadata": {},
   "outputs": [
    {
     "data": {
      "text/plain": [
       "16705726.912812574"
      ]
     },
     "execution_count": 24,
     "metadata": {},
     "output_type": "execute_result"
    }
   ],
   "source": [
    "mean_squared_error(y_test, linr_pred)"
   ]
  },
  {
   "cell_type": "code",
   "execution_count": 25,
   "id": "0e58bae1",
   "metadata": {},
   "outputs": [
    {
     "data": {
      "text/plain": [
       "3245.852258706231"
      ]
     },
     "execution_count": 25,
     "metadata": {},
     "output_type": "execute_result"
    }
   ],
   "source": [
    "mean_absolute_error(y_test, linr_pred)"
   ]
  },
  {
   "cell_type": "code",
   "execution_count": 26,
   "id": "37285f71",
   "metadata": {},
   "outputs": [],
   "source": [
    "# Decision Tree Regressor Model\n",
    "dect = DecisionTreeRegressor()\n",
    "dect.fit(x_train, y_train)\n",
    "dect_pred = dect.predict(x_test)"
   ]
  },
  {
   "cell_type": "code",
   "execution_count": 27,
   "id": "844a921b",
   "metadata": {},
   "outputs": [
    {
     "data": {
      "text/plain": [
       "11456749.321269087"
      ]
     },
     "execution_count": 27,
     "metadata": {},
     "output_type": "execute_result"
    }
   ],
   "source": [
    "mean_squared_error(y_test, dect_pred)"
   ]
  },
  {
   "cell_type": "code",
   "execution_count": 28,
   "id": "d48a3c97",
   "metadata": {},
   "outputs": [
    {
     "data": {
      "text/plain": [
       "2218.244961893122"
      ]
     },
     "execution_count": 28,
     "metadata": {},
     "output_type": "execute_result"
    }
   ],
   "source": [
    "mean_absolute_error(y_test, dect_pred)"
   ]
  },
  {
   "cell_type": "code",
   "execution_count": null,
   "id": "29498450",
   "metadata": {},
   "outputs": [],
   "source": [
    "# Random Forest Regressor Model\n",
    "ranf = RandomForestRegressor()\n",
    "ranf.fit(x_train, y_train)\n",
    "ranf_pred = ranf.predict(x_test)"
   ]
  },
  {
   "cell_type": "code",
   "execution_count": 31,
   "id": "22d52b91",
   "metadata": {},
   "outputs": [
    {
     "data": {
      "text/plain": [
       "8422298.620603396"
      ]
     },
     "execution_count": 31,
     "metadata": {},
     "output_type": "execute_result"
    }
   ],
   "source": [
    "mean_squared_error(y_test, ranf_pred)"
   ]
  },
  {
   "cell_type": "code",
   "execution_count": 32,
   "id": "c2edeb1b",
   "metadata": {},
   "outputs": [
    {
     "data": {
      "text/plain": [
       "1946.8147813350904"
      ]
     },
     "execution_count": 32,
     "metadata": {},
     "output_type": "execute_result"
    }
   ],
   "source": [
    "mean_absolute_error(y_test, ranf_pred)"
   ]
  },
  {
   "cell_type": "markdown",
   "id": "d98b0124",
   "metadata": {},
   "source": [
    "# Classification Model"
   ]
  },
  {
   "cell_type": "code",
   "execution_count": 49,
   "id": "907152ed",
   "metadata": {},
   "outputs": [],
   "source": [
    "# classification aspect\n",
    "from sklearn.dummy import DummyClassifier\n",
    "from sklearn.linear_model import LogisticRegression\n",
    "from sklearn.tree import DecisionTreeClassifier\n",
    "from sklearn.ensemble import RandomForestClassifier\n",
    "\n",
    "from sklearn.metrics import confusion_matrix, classification_report"
   ]
  },
  {
   "cell_type": "code",
   "execution_count": 41,
   "id": "363cb999",
   "metadata": {},
   "outputs": [
    {
     "data": {
      "text/html": [
       "<div>\n",
       "<style scoped>\n",
       "    .dataframe tbody tr th:only-of-type {\n",
       "        vertical-align: middle;\n",
       "    }\n",
       "\n",
       "    .dataframe tbody tr th {\n",
       "        vertical-align: top;\n",
       "    }\n",
       "\n",
       "    .dataframe thead th {\n",
       "        text-align: right;\n",
       "    }\n",
       "</style>\n",
       "<table border=\"1\" class=\"dataframe\">\n",
       "  <thead>\n",
       "    <tr style=\"text-align: right;\">\n",
       "      <th></th>\n",
       "      <th>Product</th>\n",
       "      <th>CustomerGender</th>\n",
       "      <th>Location</th>\n",
       "      <th>Region</th>\n",
       "      <th>TotalPrice</th>\n",
       "      <th>StartDate</th>\n",
       "      <th>Deposit</th>\n",
       "      <th>DailyRate</th>\n",
       "      <th>TotalDays</th>\n",
       "      <th>AmountPaid30</th>\n",
       "      <th>AmountPaid60</th>\n",
       "      <th>AmountPaid360</th>\n",
       "      <th>LoanStatus360</th>\n",
       "    </tr>\n",
       "  </thead>\n",
       "  <tbody>\n",
       "    <tr>\n",
       "      <th>0</th>\n",
       "      <td>Product B</td>\n",
       "      <td>Male</td>\n",
       "      <td>Location 2</td>\n",
       "      <td>Region 2</td>\n",
       "      <td>16600</td>\n",
       "      <td>7/4/2014</td>\n",
       "      <td>2000</td>\n",
       "      <td>40</td>\n",
       "      <td>365</td>\n",
       "      <td>3121</td>\n",
       "      <td>4241</td>\n",
       "      <td>13621</td>\n",
       "      <td>Active</td>\n",
       "    </tr>\n",
       "    <tr>\n",
       "      <th>1</th>\n",
       "      <td>Product B</td>\n",
       "      <td>Male</td>\n",
       "      <td>Location 3</td>\n",
       "      <td>Region 3</td>\n",
       "      <td>16600</td>\n",
       "      <td>1/2/2015</td>\n",
       "      <td>2000</td>\n",
       "      <td>40</td>\n",
       "      <td>365</td>\n",
       "      <td>3061</td>\n",
       "      <td>4171</td>\n",
       "      <td>15041</td>\n",
       "      <td>Active</td>\n",
       "    </tr>\n",
       "    <tr>\n",
       "      <th>2</th>\n",
       "      <td>Product C</td>\n",
       "      <td>Female</td>\n",
       "      <td>Location 5</td>\n",
       "      <td>Region 5</td>\n",
       "      <td>15600</td>\n",
       "      <td>12/8/2012</td>\n",
       "      <td>1000</td>\n",
       "      <td>40</td>\n",
       "      <td>365</td>\n",
       "      <td>2160</td>\n",
       "      <td>3280</td>\n",
       "      <td>15340</td>\n",
       "      <td>Active</td>\n",
       "    </tr>\n",
       "    <tr>\n",
       "      <th>3</th>\n",
       "      <td>Product B</td>\n",
       "      <td>Male</td>\n",
       "      <td>Location 6</td>\n",
       "      <td>Region 1</td>\n",
       "      <td>16600</td>\n",
       "      <td>2/20/2015</td>\n",
       "      <td>2000</td>\n",
       "      <td>40</td>\n",
       "      <td>365</td>\n",
       "      <td>3041</td>\n",
       "      <td>4241</td>\n",
       "      <td>15321</td>\n",
       "      <td>Active</td>\n",
       "    </tr>\n",
       "    <tr>\n",
       "      <th>4</th>\n",
       "      <td>Product D</td>\n",
       "      <td>Female</td>\n",
       "      <td>Location 7</td>\n",
       "      <td>Region 2</td>\n",
       "      <td>20250</td>\n",
       "      <td>10/28/2013</td>\n",
       "      <td>2000</td>\n",
       "      <td>50</td>\n",
       "      <td>365</td>\n",
       "      <td>3470</td>\n",
       "      <td>4820</td>\n",
       "      <td>13720</td>\n",
       "      <td>Active</td>\n",
       "    </tr>\n",
       "    <tr>\n",
       "      <th>...</th>\n",
       "      <td>...</td>\n",
       "      <td>...</td>\n",
       "      <td>...</td>\n",
       "      <td>...</td>\n",
       "      <td>...</td>\n",
       "      <td>...</td>\n",
       "      <td>...</td>\n",
       "      <td>...</td>\n",
       "      <td>...</td>\n",
       "      <td>...</td>\n",
       "      <td>...</td>\n",
       "      <td>...</td>\n",
       "      <td>...</td>\n",
       "    </tr>\n",
       "    <tr>\n",
       "      <th>9190</th>\n",
       "      <td>Product A</td>\n",
       "      <td>Female</td>\n",
       "      <td>Location 30</td>\n",
       "      <td>Region 2</td>\n",
       "      <td>20250</td>\n",
       "      <td>6/30/2016</td>\n",
       "      <td>2000</td>\n",
       "      <td>50</td>\n",
       "      <td>365</td>\n",
       "      <td>3601</td>\n",
       "      <td>4301</td>\n",
       "      <td>20250</td>\n",
       "      <td>Finished Payment</td>\n",
       "    </tr>\n",
       "    <tr>\n",
       "      <th>9191</th>\n",
       "      <td>Product D</td>\n",
       "      <td>Female</td>\n",
       "      <td>Location 57</td>\n",
       "      <td>Region 6</td>\n",
       "      <td>20250</td>\n",
       "      <td>8/4/2013</td>\n",
       "      <td>2000</td>\n",
       "      <td>50</td>\n",
       "      <td>365</td>\n",
       "      <td>4001</td>\n",
       "      <td>5501</td>\n",
       "      <td>20250</td>\n",
       "      <td>Finished Payment</td>\n",
       "    </tr>\n",
       "    <tr>\n",
       "      <th>9192</th>\n",
       "      <td>Product B</td>\n",
       "      <td>Female</td>\n",
       "      <td>Location 8</td>\n",
       "      <td>Region 2</td>\n",
       "      <td>16600</td>\n",
       "      <td>6/14/2014</td>\n",
       "      <td>2000</td>\n",
       "      <td>40</td>\n",
       "      <td>365</td>\n",
       "      <td>3401</td>\n",
       "      <td>4601</td>\n",
       "      <td>16600</td>\n",
       "      <td>Finished Payment</td>\n",
       "    </tr>\n",
       "    <tr>\n",
       "      <th>9193</th>\n",
       "      <td>Product B</td>\n",
       "      <td>Male</td>\n",
       "      <td>Location 4</td>\n",
       "      <td>Region 4</td>\n",
       "      <td>16600</td>\n",
       "      <td>12/29/2014</td>\n",
       "      <td>2000</td>\n",
       "      <td>40</td>\n",
       "      <td>365</td>\n",
       "      <td>3400</td>\n",
       "      <td>4600</td>\n",
       "      <td>16600</td>\n",
       "      <td>Finished Payment</td>\n",
       "    </tr>\n",
       "    <tr>\n",
       "      <th>9194</th>\n",
       "      <td>Product D</td>\n",
       "      <td>Male</td>\n",
       "      <td>Location 16</td>\n",
       "      <td>Region 1</td>\n",
       "      <td>20250</td>\n",
       "      <td>6/23/2013</td>\n",
       "      <td>2000</td>\n",
       "      <td>50</td>\n",
       "      <td>365</td>\n",
       "      <td>6950</td>\n",
       "      <td>6950</td>\n",
       "      <td>20250</td>\n",
       "      <td>Finished Payment</td>\n",
       "    </tr>\n",
       "  </tbody>\n",
       "</table>\n",
       "<p>9195 rows × 13 columns</p>\n",
       "</div>"
      ],
      "text/plain": [
       "        Product CustomerGender     Location    Region  TotalPrice   StartDate  \\\n",
       "0     Product B           Male   Location 2  Region 2       16600    7/4/2014   \n",
       "1     Product B           Male   Location 3  Region 3       16600    1/2/2015   \n",
       "2     Product C         Female   Location 5  Region 5       15600   12/8/2012   \n",
       "3     Product B           Male   Location 6  Region 1       16600   2/20/2015   \n",
       "4     Product D         Female   Location 7  Region 2       20250  10/28/2013   \n",
       "...         ...            ...          ...       ...         ...         ...   \n",
       "9190  Product A         Female  Location 30  Region 2       20250   6/30/2016   \n",
       "9191  Product D         Female  Location 57  Region 6       20250    8/4/2013   \n",
       "9192  Product B         Female   Location 8  Region 2       16600   6/14/2014   \n",
       "9193  Product B           Male   Location 4  Region 4       16600  12/29/2014   \n",
       "9194  Product D           Male  Location 16  Region 1       20250   6/23/2013   \n",
       "\n",
       "      Deposit  DailyRate  TotalDays  AmountPaid30  AmountPaid60  \\\n",
       "0        2000         40        365          3121          4241   \n",
       "1        2000         40        365          3061          4171   \n",
       "2        1000         40        365          2160          3280   \n",
       "3        2000         40        365          3041          4241   \n",
       "4        2000         50        365          3470          4820   \n",
       "...       ...        ...        ...           ...           ...   \n",
       "9190     2000         50        365          3601          4301   \n",
       "9191     2000         50        365          4001          5501   \n",
       "9192     2000         40        365          3401          4601   \n",
       "9193     2000         40        365          3400          4600   \n",
       "9194     2000         50        365          6950          6950   \n",
       "\n",
       "      AmountPaid360     LoanStatus360  \n",
       "0             13621            Active  \n",
       "1             15041            Active  \n",
       "2             15340            Active  \n",
       "3             15321            Active  \n",
       "4             13720            Active  \n",
       "...             ...               ...  \n",
       "9190          20250  Finished Payment  \n",
       "9191          20250  Finished Payment  \n",
       "9192          16600  Finished Payment  \n",
       "9193          16600  Finished Payment  \n",
       "9194          20250  Finished Payment  \n",
       "\n",
       "[9195 rows x 13 columns]"
      ]
     },
     "execution_count": 41,
     "metadata": {},
     "output_type": "execute_result"
    }
   ],
   "source": [
    "kopa_classification"
   ]
  },
  {
   "cell_type": "code",
   "execution_count": 42,
   "id": "0efb320f",
   "metadata": {},
   "outputs": [],
   "source": [
    "# label encode our data\n",
    "\n",
    "#instantiate the encoder\n",
    "encoder = LabelEncoder()\n",
    "\n",
    "# fit and transform the data\n",
    "for column in cat_columns:\n",
    "    kopa_classification[column] = encoder.fit_transform(kopa_classification[column])\n"
   ]
  },
  {
   "cell_type": "code",
   "execution_count": 43,
   "id": "50103cb1",
   "metadata": {},
   "outputs": [
    {
     "data": {
      "text/html": [
       "<div>\n",
       "<style scoped>\n",
       "    .dataframe tbody tr th:only-of-type {\n",
       "        vertical-align: middle;\n",
       "    }\n",
       "\n",
       "    .dataframe tbody tr th {\n",
       "        vertical-align: top;\n",
       "    }\n",
       "\n",
       "    .dataframe thead th {\n",
       "        text-align: right;\n",
       "    }\n",
       "</style>\n",
       "<table border=\"1\" class=\"dataframe\">\n",
       "  <thead>\n",
       "    <tr style=\"text-align: right;\">\n",
       "      <th></th>\n",
       "      <th>Product</th>\n",
       "      <th>CustomerGender</th>\n",
       "      <th>Location</th>\n",
       "      <th>Region</th>\n",
       "      <th>TotalPrice</th>\n",
       "      <th>StartDate</th>\n",
       "      <th>Deposit</th>\n",
       "      <th>DailyRate</th>\n",
       "      <th>TotalDays</th>\n",
       "      <th>AmountPaid30</th>\n",
       "      <th>AmountPaid60</th>\n",
       "      <th>AmountPaid360</th>\n",
       "      <th>LoanStatus360</th>\n",
       "    </tr>\n",
       "  </thead>\n",
       "  <tbody>\n",
       "    <tr>\n",
       "      <th>0</th>\n",
       "      <td>1</td>\n",
       "      <td>1</td>\n",
       "      <td>108</td>\n",
       "      <td>10</td>\n",
       "      <td>16600</td>\n",
       "      <td>1255</td>\n",
       "      <td>2000</td>\n",
       "      <td>40</td>\n",
       "      <td>365</td>\n",
       "      <td>3121</td>\n",
       "      <td>4241</td>\n",
       "      <td>13621</td>\n",
       "      <td>0</td>\n",
       "    </tr>\n",
       "    <tr>\n",
       "      <th>1</th>\n",
       "      <td>1</td>\n",
       "      <td>1</td>\n",
       "      <td>219</td>\n",
       "      <td>11</td>\n",
       "      <td>16600</td>\n",
       "      <td>44</td>\n",
       "      <td>2000</td>\n",
       "      <td>40</td>\n",
       "      <td>365</td>\n",
       "      <td>3061</td>\n",
       "      <td>4171</td>\n",
       "      <td>15041</td>\n",
       "      <td>0</td>\n",
       "    </tr>\n",
       "    <tr>\n",
       "      <th>2</th>\n",
       "      <td>2</td>\n",
       "      <td>0</td>\n",
       "      <td>441</td>\n",
       "      <td>13</td>\n",
       "      <td>15600</td>\n",
       "      <td>470</td>\n",
       "      <td>1000</td>\n",
       "      <td>40</td>\n",
       "      <td>365</td>\n",
       "      <td>2160</td>\n",
       "      <td>3280</td>\n",
       "      <td>15340</td>\n",
       "      <td>0</td>\n",
       "    </tr>\n",
       "    <tr>\n",
       "      <th>3</th>\n",
       "      <td>1</td>\n",
       "      <td>1</td>\n",
       "      <td>552</td>\n",
       "      <td>0</td>\n",
       "      <td>16600</td>\n",
       "      <td>532</td>\n",
       "      <td>2000</td>\n",
       "      <td>40</td>\n",
       "      <td>365</td>\n",
       "      <td>3041</td>\n",
       "      <td>4241</td>\n",
       "      <td>15321</td>\n",
       "      <td>0</td>\n",
       "    </tr>\n",
       "    <tr>\n",
       "      <th>4</th>\n",
       "      <td>3</td>\n",
       "      <td>0</td>\n",
       "      <td>659</td>\n",
       "      <td>10</td>\n",
       "      <td>20250</td>\n",
       "      <td>201</td>\n",
       "      <td>2000</td>\n",
       "      <td>50</td>\n",
       "      <td>365</td>\n",
       "      <td>3470</td>\n",
       "      <td>4820</td>\n",
       "      <td>13720</td>\n",
       "      <td>0</td>\n",
       "    </tr>\n",
       "    <tr>\n",
       "      <th>...</th>\n",
       "      <td>...</td>\n",
       "      <td>...</td>\n",
       "      <td>...</td>\n",
       "      <td>...</td>\n",
       "      <td>...</td>\n",
       "      <td>...</td>\n",
       "      <td>...</td>\n",
       "      <td>...</td>\n",
       "      <td>...</td>\n",
       "      <td>...</td>\n",
       "      <td>...</td>\n",
       "      <td>...</td>\n",
       "      <td>...</td>\n",
       "    </tr>\n",
       "    <tr>\n",
       "      <th>9190</th>\n",
       "      <td>0</td>\n",
       "      <td>0</td>\n",
       "      <td>220</td>\n",
       "      <td>10</td>\n",
       "      <td>20250</td>\n",
       "      <td>1109</td>\n",
       "      <td>2000</td>\n",
       "      <td>50</td>\n",
       "      <td>365</td>\n",
       "      <td>3601</td>\n",
       "      <td>4301</td>\n",
       "      <td>20250</td>\n",
       "      <td>2</td>\n",
       "    </tr>\n",
       "    <tr>\n",
       "      <th>9191</th>\n",
       "      <td>3</td>\n",
       "      <td>0</td>\n",
       "      <td>519</td>\n",
       "      <td>14</td>\n",
       "      <td>20250</td>\n",
       "      <td>1380</td>\n",
       "      <td>2000</td>\n",
       "      <td>50</td>\n",
       "      <td>365</td>\n",
       "      <td>4001</td>\n",
       "      <td>5501</td>\n",
       "      <td>20250</td>\n",
       "      <td>2</td>\n",
       "    </tr>\n",
       "    <tr>\n",
       "      <th>9192</th>\n",
       "      <td>1</td>\n",
       "      <td>0</td>\n",
       "      <td>762</td>\n",
       "      <td>10</td>\n",
       "      <td>16600</td>\n",
       "      <td>1024</td>\n",
       "      <td>2000</td>\n",
       "      <td>40</td>\n",
       "      <td>365</td>\n",
       "      <td>3401</td>\n",
       "      <td>4601</td>\n",
       "      <td>16600</td>\n",
       "      <td>2</td>\n",
       "    </tr>\n",
       "    <tr>\n",
       "      <th>9193</th>\n",
       "      <td>1</td>\n",
       "      <td>1</td>\n",
       "      <td>330</td>\n",
       "      <td>12</td>\n",
       "      <td>16600</td>\n",
       "      <td>440</td>\n",
       "      <td>2000</td>\n",
       "      <td>40</td>\n",
       "      <td>365</td>\n",
       "      <td>3400</td>\n",
       "      <td>4600</td>\n",
       "      <td>16600</td>\n",
       "      <td>2</td>\n",
       "    </tr>\n",
       "    <tr>\n",
       "      <th>9194</th>\n",
       "      <td>3</td>\n",
       "      <td>1</td>\n",
       "      <td>66</td>\n",
       "      <td>0</td>\n",
       "      <td>20250</td>\n",
       "      <td>1069</td>\n",
       "      <td>2000</td>\n",
       "      <td>50</td>\n",
       "      <td>365</td>\n",
       "      <td>6950</td>\n",
       "      <td>6950</td>\n",
       "      <td>20250</td>\n",
       "      <td>2</td>\n",
       "    </tr>\n",
       "  </tbody>\n",
       "</table>\n",
       "<p>9195 rows × 13 columns</p>\n",
       "</div>"
      ],
      "text/plain": [
       "      Product  CustomerGender  Location  Region  TotalPrice  StartDate  \\\n",
       "0           1               1       108      10       16600       1255   \n",
       "1           1               1       219      11       16600         44   \n",
       "2           2               0       441      13       15600        470   \n",
       "3           1               1       552       0       16600        532   \n",
       "4           3               0       659      10       20250        201   \n",
       "...       ...             ...       ...     ...         ...        ...   \n",
       "9190        0               0       220      10       20250       1109   \n",
       "9191        3               0       519      14       20250       1380   \n",
       "9192        1               0       762      10       16600       1024   \n",
       "9193        1               1       330      12       16600        440   \n",
       "9194        3               1        66       0       20250       1069   \n",
       "\n",
       "      Deposit  DailyRate  TotalDays  AmountPaid30  AmountPaid60  \\\n",
       "0        2000         40        365          3121          4241   \n",
       "1        2000         40        365          3061          4171   \n",
       "2        1000         40        365          2160          3280   \n",
       "3        2000         40        365          3041          4241   \n",
       "4        2000         50        365          3470          4820   \n",
       "...       ...        ...        ...           ...           ...   \n",
       "9190     2000         50        365          3601          4301   \n",
       "9191     2000         50        365          4001          5501   \n",
       "9192     2000         40        365          3401          4601   \n",
       "9193     2000         40        365          3400          4600   \n",
       "9194     2000         50        365          6950          6950   \n",
       "\n",
       "      AmountPaid360  LoanStatus360  \n",
       "0             13621              0  \n",
       "1             15041              0  \n",
       "2             15340              0  \n",
       "3             15321              0  \n",
       "4             13720              0  \n",
       "...             ...            ...  \n",
       "9190          20250              2  \n",
       "9191          20250              2  \n",
       "9192          16600              2  \n",
       "9193          16600              2  \n",
       "9194          20250              2  \n",
       "\n",
       "[9195 rows x 13 columns]"
      ]
     },
     "execution_count": 43,
     "metadata": {},
     "output_type": "execute_result"
    }
   ],
   "source": [
    "kopa_classification"
   ]
  },
  {
   "cell_type": "code",
   "execution_count": 44,
   "id": "427c58e2",
   "metadata": {},
   "outputs": [],
   "source": [
    "kopa_classification.drop(['Location','StartDate','TotalDays','AmountPaid30','DailyRate'], \n",
    "                     axis=1,\n",
    "                     inplace=True)"
   ]
  },
  {
   "cell_type": "code",
   "execution_count": 45,
   "id": "2f05ee88",
   "metadata": {},
   "outputs": [
    {
     "data": {
      "text/html": [
       "<div>\n",
       "<style scoped>\n",
       "    .dataframe tbody tr th:only-of-type {\n",
       "        vertical-align: middle;\n",
       "    }\n",
       "\n",
       "    .dataframe tbody tr th {\n",
       "        vertical-align: top;\n",
       "    }\n",
       "\n",
       "    .dataframe thead th {\n",
       "        text-align: right;\n",
       "    }\n",
       "</style>\n",
       "<table border=\"1\" class=\"dataframe\">\n",
       "  <thead>\n",
       "    <tr style=\"text-align: right;\">\n",
       "      <th></th>\n",
       "      <th>Product</th>\n",
       "      <th>CustomerGender</th>\n",
       "      <th>Region</th>\n",
       "      <th>TotalPrice</th>\n",
       "      <th>Deposit</th>\n",
       "      <th>AmountPaid60</th>\n",
       "      <th>AmountPaid360</th>\n",
       "      <th>LoanStatus360</th>\n",
       "    </tr>\n",
       "  </thead>\n",
       "  <tbody>\n",
       "    <tr>\n",
       "      <th>0</th>\n",
       "      <td>1</td>\n",
       "      <td>1</td>\n",
       "      <td>10</td>\n",
       "      <td>16600</td>\n",
       "      <td>2000</td>\n",
       "      <td>4241</td>\n",
       "      <td>13621</td>\n",
       "      <td>0</td>\n",
       "    </tr>\n",
       "    <tr>\n",
       "      <th>1</th>\n",
       "      <td>1</td>\n",
       "      <td>1</td>\n",
       "      <td>11</td>\n",
       "      <td>16600</td>\n",
       "      <td>2000</td>\n",
       "      <td>4171</td>\n",
       "      <td>15041</td>\n",
       "      <td>0</td>\n",
       "    </tr>\n",
       "    <tr>\n",
       "      <th>2</th>\n",
       "      <td>2</td>\n",
       "      <td>0</td>\n",
       "      <td>13</td>\n",
       "      <td>15600</td>\n",
       "      <td>1000</td>\n",
       "      <td>3280</td>\n",
       "      <td>15340</td>\n",
       "      <td>0</td>\n",
       "    </tr>\n",
       "    <tr>\n",
       "      <th>3</th>\n",
       "      <td>1</td>\n",
       "      <td>1</td>\n",
       "      <td>0</td>\n",
       "      <td>16600</td>\n",
       "      <td>2000</td>\n",
       "      <td>4241</td>\n",
       "      <td>15321</td>\n",
       "      <td>0</td>\n",
       "    </tr>\n",
       "    <tr>\n",
       "      <th>4</th>\n",
       "      <td>3</td>\n",
       "      <td>0</td>\n",
       "      <td>10</td>\n",
       "      <td>20250</td>\n",
       "      <td>2000</td>\n",
       "      <td>4820</td>\n",
       "      <td>13720</td>\n",
       "      <td>0</td>\n",
       "    </tr>\n",
       "  </tbody>\n",
       "</table>\n",
       "</div>"
      ],
      "text/plain": [
       "   Product  CustomerGender  Region  TotalPrice  Deposit  AmountPaid60  \\\n",
       "0        1               1      10       16600     2000          4241   \n",
       "1        1               1      11       16600     2000          4171   \n",
       "2        2               0      13       15600     1000          3280   \n",
       "3        1               1       0       16600     2000          4241   \n",
       "4        3               0      10       20250     2000          4820   \n",
       "\n",
       "   AmountPaid360  LoanStatus360  \n",
       "0          13621              0  \n",
       "1          15041              0  \n",
       "2          15340              0  \n",
       "3          15321              0  \n",
       "4          13720              0  "
      ]
     },
     "execution_count": 45,
     "metadata": {},
     "output_type": "execute_result"
    }
   ],
   "source": [
    "kopa_classification.head()"
   ]
  },
  {
   "cell_type": "code",
   "execution_count": 52,
   "id": "867c8a22",
   "metadata": {},
   "outputs": [],
   "source": [
    "x = kopa_classification.drop('LoanStatus360', axis=1)\n",
    "\n",
    "y= kopa_classification['LoanStatus360']"
   ]
  },
  {
   "cell_type": "code",
   "execution_count": 48,
   "id": "71189462",
   "metadata": {},
   "outputs": [],
   "source": [
    "# split the data into train and test\n",
    "x_train, x_test, y_train, y_test= train_test_split(x, y, test_size = 0.2, stratify = y)"
   ]
  },
  {
   "cell_type": "code",
   "execution_count": 53,
   "id": "0757fc9d",
   "metadata": {},
   "outputs": [],
   "source": [
    "# etablish the baseline through dummy classifier\n",
    "dum_c = DummyClassifier()\n",
    "dum_c.fit(x_train, y_train)\n",
    "dumc_pred = dum_c.predict(x_test)"
   ]
  },
  {
   "cell_type": "code",
   "execution_count": 54,
   "id": "bf64cd99",
   "metadata": {},
   "outputs": [
    {
     "data": {
      "text/plain": [
       "array([[1348,    0,    0],\n",
       "       [ 170,    0,    0],\n",
       "       [ 321,    0,    0]], dtype=int64)"
      ]
     },
     "execution_count": 54,
     "metadata": {},
     "output_type": "execute_result"
    }
   ],
   "source": [
    "# confusion matrix of dummy classifier\n",
    "confusion_matrix(y_test, dumc_pred)"
   ]
  },
  {
   "cell_type": "code",
   "execution_count": 56,
   "id": "208b2502",
   "metadata": {},
   "outputs": [
    {
     "name": "stdout",
     "output_type": "stream",
     "text": [
      "              precision    recall  f1-score   support\n",
      "\n",
      "           0       0.73      1.00      0.85      1348\n",
      "           1       0.00      0.00      0.00       170\n",
      "           2       0.00      0.00      0.00       321\n",
      "\n",
      "    accuracy                           0.73      1839\n",
      "   macro avg       0.24      0.33      0.28      1839\n",
      "weighted avg       0.54      0.73      0.62      1839\n",
      "\n"
     ]
    },
    {
     "name": "stderr",
     "output_type": "stream",
     "text": [
      "C:\\Users\\owino\\anaconda3\\lib\\site-packages\\sklearn\\metrics\\_classification.py:1245: UndefinedMetricWarning: Precision and F-score are ill-defined and being set to 0.0 in labels with no predicted samples. Use `zero_division` parameter to control this behavior.\n",
      "  _warn_prf(average, modifier, msg_start, len(result))\n",
      "C:\\Users\\owino\\anaconda3\\lib\\site-packages\\sklearn\\metrics\\_classification.py:1245: UndefinedMetricWarning: Precision and F-score are ill-defined and being set to 0.0 in labels with no predicted samples. Use `zero_division` parameter to control this behavior.\n",
      "  _warn_prf(average, modifier, msg_start, len(result))\n",
      "C:\\Users\\owino\\anaconda3\\lib\\site-packages\\sklearn\\metrics\\_classification.py:1245: UndefinedMetricWarning: Precision and F-score are ill-defined and being set to 0.0 in labels with no predicted samples. Use `zero_division` parameter to control this behavior.\n",
      "  _warn_prf(average, modifier, msg_start, len(result))\n"
     ]
    }
   ],
   "source": [
    "print(classification_report(y_test, dumc_pred))"
   ]
  },
  {
   "cell_type": "code",
   "execution_count": 58,
   "id": "14d6519b",
   "metadata": {},
   "outputs": [],
   "source": [
    "# Logistic Regression Model\n",
    "logr_c = LogisticRegression(max_iter=10000)\n",
    "logr_c.fit(x_train, y_train)\n",
    "logr_pred = logr_c.predict(x_test)"
   ]
  },
  {
   "cell_type": "code",
   "execution_count": 59,
   "id": "fb09f8c7",
   "metadata": {},
   "outputs": [
    {
     "data": {
      "text/plain": [
       "array([[1320,   28,    0],\n",
       "       [  61,  109,    0],\n",
       "       [   0,    0,  321]], dtype=int64)"
      ]
     },
     "execution_count": 59,
     "metadata": {},
     "output_type": "execute_result"
    }
   ],
   "source": [
    "# confusion matrix of Logistic Regression classifier\n",
    "confusion_matrix(y_test, logr_pred)"
   ]
  },
  {
   "cell_type": "code",
   "execution_count": 60,
   "id": "d8b61282",
   "metadata": {},
   "outputs": [
    {
     "name": "stdout",
     "output_type": "stream",
     "text": [
      "              precision    recall  f1-score   support\n",
      "\n",
      "           0       0.96      0.98      0.97      1348\n",
      "           1       0.80      0.64      0.71       170\n",
      "           2       1.00      1.00      1.00       321\n",
      "\n",
      "    accuracy                           0.95      1839\n",
      "   macro avg       0.92      0.87      0.89      1839\n",
      "weighted avg       0.95      0.95      0.95      1839\n",
      "\n"
     ]
    }
   ],
   "source": [
    "# Classification Report of the Logistic Regression Model Performance \n",
    "print(classification_report(y_test, logr_pred))"
   ]
  },
  {
   "cell_type": "code",
   "execution_count": 61,
   "id": "ac0e6c52",
   "metadata": {},
   "outputs": [],
   "source": [
    "# Decision Tree Classification Model\n",
    "dect_c = DecisionTreeClassifier()\n",
    "dect_c.fit(x_train, y_train)\n",
    "dect_pred = dect_c.predict(x_test)"
   ]
  },
  {
   "cell_type": "code",
   "execution_count": 62,
   "id": "6e792d24",
   "metadata": {},
   "outputs": [
    {
     "data": {
      "text/plain": [
       "array([[1266,   77,    5],\n",
       "       [  59,  111,    0],\n",
       "       [   0,    0,  321]], dtype=int64)"
      ]
     },
     "execution_count": 62,
     "metadata": {},
     "output_type": "execute_result"
    }
   ],
   "source": [
    "# confusion matrix of Decision Tree classifier\n",
    "confusion_matrix(y_test, dect_pred)"
   ]
  },
  {
   "cell_type": "code",
   "execution_count": 63,
   "id": "6c037e46",
   "metadata": {},
   "outputs": [
    {
     "name": "stdout",
     "output_type": "stream",
     "text": [
      "              precision    recall  f1-score   support\n",
      "\n",
      "           0       0.96      0.94      0.95      1348\n",
      "           1       0.59      0.65      0.62       170\n",
      "           2       0.98      1.00      0.99       321\n",
      "\n",
      "    accuracy                           0.92      1839\n",
      "   macro avg       0.84      0.86      0.85      1839\n",
      "weighted avg       0.93      0.92      0.92      1839\n",
      "\n"
     ]
    }
   ],
   "source": [
    "# Classification Report of the Decision Tree Model performance\n",
    "print(classification_report(y_test, dect_pred))"
   ]
  },
  {
   "cell_type": "code",
   "execution_count": 64,
   "id": "de7e6106",
   "metadata": {},
   "outputs": [],
   "source": [
    "# Random Forest Classification Model\n",
    "ranf_c = RandomForestClassifier()\n",
    "ranf_c.fit(x_train, y_train)\n",
    "ranf_pred = ranf_c.predict(x_test)"
   ]
  },
  {
   "cell_type": "code",
   "execution_count": 65,
   "id": "f889daf2",
   "metadata": {},
   "outputs": [
    {
     "data": {
      "text/plain": [
       "array([[1313,   31,    4],\n",
       "       [  65,  105,    0],\n",
       "       [   2,    0,  319]], dtype=int64)"
      ]
     },
     "execution_count": 65,
     "metadata": {},
     "output_type": "execute_result"
    }
   ],
   "source": [
    "# confusion matrix of Random Forest classifier\n",
    "confusion_matrix(y_test, ranf_pred)"
   ]
  },
  {
   "cell_type": "code",
   "execution_count": 66,
   "id": "e645bd58",
   "metadata": {},
   "outputs": [
    {
     "name": "stdout",
     "output_type": "stream",
     "text": [
      "              precision    recall  f1-score   support\n",
      "\n",
      "           0       0.95      0.97      0.96      1348\n",
      "           1       0.77      0.62      0.69       170\n",
      "           2       0.99      0.99      0.99       321\n",
      "\n",
      "    accuracy                           0.94      1839\n",
      "   macro avg       0.90      0.86      0.88      1839\n",
      "weighted avg       0.94      0.94      0.94      1839\n",
      "\n"
     ]
    }
   ],
   "source": [
    "# Classification report of the Random Forest Model perfomance\n",
    "print(classification_report(y_test, ranf_pred))"
   ]
  },
  {
   "cell_type": "code",
   "execution_count": null,
   "id": "be197576",
   "metadata": {},
   "outputs": [],
   "source": []
  },
  {
   "cell_type": "code",
   "execution_count": null,
   "id": "6cb3b9e8",
   "metadata": {},
   "outputs": [],
   "source": []
  },
  {
   "cell_type": "code",
   "execution_count": null,
   "id": "0bc5aca9",
   "metadata": {},
   "outputs": [],
   "source": []
  },
  {
   "cell_type": "code",
   "execution_count": null,
   "id": "03417d27",
   "metadata": {},
   "outputs": [],
   "source": []
  }
 ],
 "metadata": {
  "kernelspec": {
   "display_name": "Python 3",
   "language": "python",
   "name": "python3"
  },
  "language_info": {
   "codemirror_mode": {
    "name": "ipython",
    "version": 3
   },
   "file_extension": ".py",
   "mimetype": "text/x-python",
   "name": "python",
   "nbconvert_exporter": "python",
   "pygments_lexer": "ipython3",
   "version": "3.8.8"
  }
 },
 "nbformat": 4,
 "nbformat_minor": 5
}
